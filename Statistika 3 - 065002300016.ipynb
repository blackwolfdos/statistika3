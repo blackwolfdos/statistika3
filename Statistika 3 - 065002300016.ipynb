{
 "cells": [
  {
   "cell_type": "code",
   "execution_count": 1,
   "id": "e7864487",
   "metadata": {},
   "outputs": [
    {
     "name": "stdout",
     "output_type": "stream",
     "text": [
      "      Price  SqFt  Bedrooms  Bathrooms  Offers Brick Neighborhood\n",
      "0    114300  1790         2          2       2    No         East\n",
      "1    114200  2030         4          2       3    No         East\n",
      "2    114800  1740         3          2       1    No         East\n",
      "3     94700  1980         3          2       3    No         East\n",
      "4    119800  2130         3          3       3    No         East\n",
      "..      ...   ...       ...        ...     ...   ...          ...\n",
      "123  119700  1900         3          3       3   Yes         East\n",
      "124  147900  2160         4          3       3   Yes         East\n",
      "125  113500  2070         2          2       2    No        North\n",
      "126  149900  2020         3          3       1    No         West\n",
      "127  124600  2250         3          3       4    No        North\n",
      "\n",
      "[128 rows x 7 columns]\n"
     ]
    }
   ],
   "source": [
    "import pandas as pd\n",
    "\n",
    "data_felix = pd.read_clipboard()\n",
    "\n",
    "print(data_felix)"
   ]
  },
  {
   "cell_type": "code",
   "execution_count": 2,
   "id": "0b53c0ec",
   "metadata": {},
   "outputs": [
    {
     "name": "stdout",
     "output_type": "stream",
     "text": [
      "      Price  SqFt  Bedrooms  Bathrooms  Offers Brick Neighborhood\n",
      "0    114300  1790         2          2       2    No         East\n",
      "11   123000  1870         2          2       2   Yes         East\n",
      "18   111400  1700         2          2       1   Yes         East\n",
      "28    69100  1600         2          2       3    No        North\n",
      "31   112300  1930         2          2       2   Yes        North\n",
      "34   117800  2000         2          2       3    No        North\n",
      "36   117500  1880         2          2       2    No        North\n",
      "40   106600  1560         2          2       1    No         East\n",
      "42   105600  1990         2          2       3    No         East\n",
      "46   129800  1990         2          3       2    No        North\n",
      "48   115900  1980         2          2       2    No         East\n",
      "51    91100  1860         2          2       3    No        North\n",
      "52   117400  2150         2          3       4    No        North\n",
      "55   125700  1720         2          2       2   Yes         East\n",
      "61   100900  1610         2          2       2    No        North\n",
      "63   120500  1910         2          3       2    No         East\n",
      "65   111100  1450         2          2       1   Yes        North\n",
      "75   106900  1900         2          2       2    No        North\n",
      "82   164800  2050         2          2       1   Yes         West\n",
      "84    90500  1520         2          2       3    No        North\n",
      "89    97800  2010         2          2       4    No        North\n",
      "95   152500  1970         2          2       1   Yes         West\n",
      "97   126800  2000         2          2       1   Yes         East\n",
      "110  111600  1710         2          2       1    No        North\n",
      "111  114900  1740         2          2       2    No        North\n",
      "112  123600  1940         2          2       2   Yes         East\n",
      "119  109700  1920         2          2       4    No        North\n",
      "120  110400  1930         2          3       3    No        North\n",
      "122  144800  2060         2          2       1   Yes         East\n",
      "125  113500  2070         2          2       2    No        North\n"
     ]
    }
   ],
   "source": [
    "felix = data_felix[data_felix['Bedrooms'] == 2]\n",
    "\n",
    "print(felix)"
   ]
  },
  {
   "cell_type": "code",
   "execution_count": 4,
   "id": "3d943e98",
   "metadata": {},
   "outputs": [
    {
     "name": "stdout",
     "output_type": "stream",
     "text": [
      "      Price  SqFt  Bedrooms Bathrooms  Offers Brick Neighborhood\n",
      "0    114300  1790         2     small       2    No         East\n",
      "11   123000  1870         2     small       2   Yes         East\n",
      "18   111400  1700         2     small       1   Yes         East\n",
      "28    69100  1600         2     small       3    No        North\n",
      "31   112300  1930         2     small       2   Yes        North\n",
      "34   117800  2000         2     small       3    No        North\n",
      "36   117500  1880         2     small       2    No        North\n",
      "40   106600  1560         2     small       1    No         East\n",
      "42   105600  1990         2     small       3    No         East\n",
      "46   129800  1990         2     large       2    No        North\n",
      "48   115900  1980         2     small       2    No         East\n",
      "51    91100  1860         2     small       3    No        North\n",
      "52   117400  2150         2     large       4    No        North\n",
      "55   125700  1720         2     small       2   Yes         East\n",
      "61   100900  1610         2     small       2    No        North\n",
      "63   120500  1910         2     large       2    No         East\n",
      "65   111100  1450         2     small       1   Yes        North\n",
      "75   106900  1900         2     small       2    No        North\n",
      "82   164800  2050         2     small       1   Yes         West\n",
      "84    90500  1520         2     small       3    No        North\n",
      "89    97800  2010         2     small       4    No        North\n",
      "95   152500  1970         2     small       1   Yes         West\n",
      "97   126800  2000         2     small       1   Yes         East\n",
      "110  111600  1710         2     small       1    No        North\n",
      "111  114900  1740         2     small       2    No        North\n",
      "112  123600  1940         2     small       2   Yes         East\n",
      "119  109700  1920         2     small       4    No        North\n",
      "120  110400  1930         2     large       3    No        North\n",
      "122  144800  2060         2     small       1   Yes         East\n",
      "125  113500  2070         2     small       2    No        North\n"
     ]
    },
    {
     "name": "stderr",
     "output_type": "stream",
     "text": [
      "<>:5: SyntaxWarning: invalid decimal literal\n",
      "<>:5: SyntaxWarning: invalid decimal literal\n",
      "C:\\Users\\Felix\\AppData\\Local\\Temp\\ipykernel_10984\\3656116665.py:5: SyntaxWarning: invalid decimal literal\n",
      "  felix['Bathrooms'] = felix['Bathrooms'].apply(lambda x:'large'if x>2else'small')\n",
      "C:\\Users\\Felix\\AppData\\Local\\Temp\\ipykernel_10984\\3656116665.py:1: SettingWithCopyWarning: \n",
      "A value is trying to be set on a copy of a slice from a DataFrame.\n",
      "Try using .loc[row_indexer,col_indexer] = value instead\n",
      "\n",
      "See the caveats in the documentation: https://pandas.pydata.org/pandas-docs/stable/user_guide/indexing.html#returning-a-view-versus-a-copy\n",
      "  felix['Bathrooms'] = pd.to_numeric(felix['Bathrooms'])\n",
      "C:\\Users\\Felix\\AppData\\Local\\Temp\\ipykernel_10984\\3656116665.py:5: SettingWithCopyWarning: \n",
      "A value is trying to be set on a copy of a slice from a DataFrame.\n",
      "Try using .loc[row_indexer,col_indexer] = value instead\n",
      "\n",
      "See the caveats in the documentation: https://pandas.pydata.org/pandas-docs/stable/user_guide/indexing.html#returning-a-view-versus-a-copy\n",
      "  felix['Bathrooms'] = felix['Bathrooms'].apply(lambda x:'large'if x>2else'small')\n"
     ]
    }
   ],
   "source": [
    "felix['Bathrooms'] = pd.to_numeric(felix['Bathrooms'])\n",
    "\n",
    "import numpy as np\n",
    "\n",
    "felix['Bathrooms'] = felix['Bathrooms'].apply(lambda x:'large'if x>2else'small')\n",
    "                                              \n",
    "print(felix)"
   ]
  },
  {
   "cell_type": "code",
   "execution_count": 5,
   "id": "7e94cdb9",
   "metadata": {},
   "outputs": [
    {
     "name": "stdout",
     "output_type": "stream",
     "text": [
      "      Price  SqFt  Bedrooms Bathrooms  Offers Brick Neighborhood newvariable\n",
      "0    114300  1790         2     small       2    No         East       small\n",
      "11   123000  1870         2     small       2   Yes         East       small\n",
      "18   111400  1700         2     small       1   Yes         East       small\n",
      "28    69100  1600         2     small       3    No        North       large\n",
      "31   112300  1930         2     small       2   Yes        North       small\n",
      "34   117800  2000         2     small       3    No        North       large\n",
      "36   117500  1880         2     small       2    No        North       small\n",
      "40   106600  1560         2     small       1    No         East       small\n",
      "42   105600  1990         2     small       3    No         East       large\n",
      "46   129800  1990         2     large       2    No        North       small\n",
      "48   115900  1980         2     small       2    No         East       small\n",
      "51    91100  1860         2     small       3    No        North       large\n",
      "52   117400  2150         2     large       4    No        North       large\n",
      "55   125700  1720         2     small       2   Yes         East       small\n",
      "61   100900  1610         2     small       2    No        North       small\n",
      "63   120500  1910         2     large       2    No         East       small\n",
      "65   111100  1450         2     small       1   Yes        North       small\n",
      "75   106900  1900         2     small       2    No        North       small\n",
      "82   164800  2050         2     small       1   Yes         West       small\n",
      "84    90500  1520         2     small       3    No        North       large\n",
      "89    97800  2010         2     small       4    No        North       large\n",
      "95   152500  1970         2     small       1   Yes         West       small\n",
      "97   126800  2000         2     small       1   Yes         East       small\n",
      "110  111600  1710         2     small       1    No        North       small\n",
      "111  114900  1740         2     small       2    No        North       small\n",
      "112  123600  1940         2     small       2   Yes         East       small\n",
      "119  109700  1920         2     small       4    No        North       large\n",
      "120  110400  1930         2     large       3    No        North       large\n",
      "122  144800  2060         2     small       1   Yes         East       small\n",
      "125  113500  2070         2     small       2    No        North       small\n"
     ]
    },
    {
     "name": "stderr",
     "output_type": "stream",
     "text": [
      "C:\\Users\\Felix\\AppData\\Local\\Temp\\ipykernel_10984\\4291740795.py:3: SettingWithCopyWarning: \n",
      "A value is trying to be set on a copy of a slice from a DataFrame.\n",
      "Try using .loc[row_indexer,col_indexer] = value instead\n",
      "\n",
      "See the caveats in the documentation: https://pandas.pydata.org/pandas-docs/stable/user_guide/indexing.html#returning-a-view-versus-a-copy\n",
      "  felix['newvariable'] = np.where(felix['Offers'] > 2, 'large', 'small')\n"
     ]
    }
   ],
   "source": [
    "import numpy as np\n",
    "\n",
    "felix['newvariable'] = np.where(felix['Offers'] > 2, 'large', 'small')\n",
    "\n",
    "print(felix)"
   ]
  },
  {
   "cell_type": "code",
   "execution_count": 6,
   "id": "3e2f71f6",
   "metadata": {},
   "outputs": [
    {
     "name": "stdout",
     "output_type": "stream",
     "text": [
      "      Price  SqFt  Bedrooms Bathrooms  Offers Brick Neighborhood  newvariable\n",
      "0    114300  1790         2     small       2    No         East    63.854749\n",
      "11   123000  1870         2     small       2   Yes         East    65.775401\n",
      "18   111400  1700         2     small       1   Yes         East    65.529412\n",
      "28    69100  1600         2     small       3    No        North    43.187500\n",
      "31   112300  1930         2     small       2   Yes        North    58.186528\n",
      "34   117800  2000         2     small       3    No        North    58.900000\n",
      "36   117500  1880         2     small       2    No        North    62.500000\n",
      "40   106600  1560         2     small       1    No         East    68.333333\n",
      "42   105600  1990         2     small       3    No         East    53.065327\n",
      "46   129800  1990         2     large       2    No        North    65.226131\n",
      "48   115900  1980         2     small       2    No         East    58.535354\n",
      "51    91100  1860         2     small       3    No        North    48.978495\n",
      "52   117400  2150         2     large       4    No        North    54.604651\n",
      "55   125700  1720         2     small       2   Yes         East    73.081395\n",
      "61   100900  1610         2     small       2    No        North    62.670807\n",
      "63   120500  1910         2     large       2    No         East    63.089005\n",
      "65   111100  1450         2     small       1   Yes        North    76.620690\n",
      "75   106900  1900         2     small       2    No        North    56.263158\n",
      "82   164800  2050         2     small       1   Yes         West    80.390244\n",
      "84    90500  1520         2     small       3    No        North    59.539474\n",
      "89    97800  2010         2     small       4    No        North    48.656716\n",
      "95   152500  1970         2     small       1   Yes         West    77.411168\n",
      "97   126800  2000         2     small       1   Yes         East    63.400000\n",
      "110  111600  1710         2     small       1    No        North    65.263158\n",
      "111  114900  1740         2     small       2    No        North    66.034483\n",
      "112  123600  1940         2     small       2   Yes         East    63.711340\n",
      "119  109700  1920         2     small       4    No        North    57.135417\n",
      "120  110400  1930         2     large       3    No        North    57.202073\n",
      "122  144800  2060         2     small       1   Yes         East    70.291262\n",
      "125  113500  2070         2     small       2    No        North    54.830918\n"
     ]
    },
    {
     "name": "stderr",
     "output_type": "stream",
     "text": [
      "C:\\Users\\Felix\\AppData\\Local\\Temp\\ipykernel_10984\\3700664511.py:1: SettingWithCopyWarning: \n",
      "A value is trying to be set on a copy of a slice from a DataFrame.\n",
      "Try using .loc[row_indexer,col_indexer] = value instead\n",
      "\n",
      "See the caveats in the documentation: https://pandas.pydata.org/pandas-docs/stable/user_guide/indexing.html#returning-a-view-versus-a-copy\n",
      "  felix['newvariable'] = felix['Price'] / felix['SqFt']\n"
     ]
    }
   ],
   "source": [
    "felix['newvariable'] = felix['Price'] / felix['SqFt']\n",
    "\n",
    "print(felix)\n"
   ]
  },
  {
   "cell_type": "code",
   "execution_count": 7,
   "id": "42fcc507",
   "metadata": {},
   "outputs": [
    {
     "name": "stdout",
     "output_type": "stream",
     "text": [
      "      Price  SqFt  Bedrooms Bathrooms  Offers Brick Neighborhood\n",
      "0    114300  1790         2     small       2    No         East\n",
      "11   123000  1870         2     small       2   Yes         East\n",
      "18   111400  1700         2     small       1   Yes         East\n",
      "28    69100  1600         2     small       3    No        North\n",
      "31   112300  1930         2     small       2   Yes        North\n",
      "34   117800  2000         2     small       3    No        North\n",
      "36   117500  1880         2     small       2    No        North\n",
      "40   106600  1560         2     small       1    No         East\n",
      "42   105600  1990         2     small       3    No         East\n",
      "46   129800  1990         2     large       2    No        North\n",
      "48   115900  1980         2     small       2    No         East\n",
      "51    91100  1860         2     small       3    No        North\n",
      "52   117400  2150         2     large       4    No        North\n",
      "55   125700  1720         2     small       2   Yes         East\n",
      "61   100900  1610         2     small       2    No        North\n",
      "63   120500  1910         2     large       2    No         East\n",
      "65   111100  1450         2     small       1   Yes        North\n",
      "75   106900  1900         2     small       2    No        North\n",
      "82   164800  2050         2     small       1   Yes         West\n",
      "84    90500  1520         2     small       3    No        North\n",
      "89    97800  2010         2     small       4    No        North\n",
      "95   152500  1970         2     small       1   Yes         West\n",
      "97   126800  2000         2     small       1   Yes         East\n",
      "110  111600  1710         2     small       1    No        North\n",
      "111  114900  1740         2     small       2    No        North\n",
      "112  123600  1940         2     small       2   Yes         East\n",
      "119  109700  1920         2     small       4    No        North\n",
      "120  110400  1930         2     large       3    No        North\n",
      "122  144800  2060         2     small       1   Yes         East\n",
      "125  113500  2070         2     small       2    No        North\n"
     ]
    }
   ],
   "source": [
    "felix = felix.drop(columns=['newvariable'])\n",
    "\n",
    "print(felix)"
   ]
  },
  {
   "cell_type": "code",
   "execution_count": 8,
   "id": "70e2b1e0",
   "metadata": {},
   "outputs": [
    {
     "name": "stdout",
     "output_type": "stream",
     "text": [
      "      Price  SqFt\n",
      "0    114300  1790\n",
      "1    114200  2030\n",
      "2    114800  1740\n",
      "3     94700  1980\n",
      "4    119800  2130\n",
      "..      ...   ...\n",
      "123  119700  1900\n",
      "124  147900  2160\n",
      "125  113500  2070\n",
      "126  149900  2020\n",
      "127  124600  2250\n",
      "\n",
      "[128 rows x 2 columns]\n"
     ]
    }
   ],
   "source": [
    "kolom1dan2 = data_felix.iloc[:, 0:2]\n",
    "\n",
    "print(kolom1dan2)"
   ]
  },
  {
   "cell_type": "code",
   "execution_count": 9,
   "id": "ff4348b8",
   "metadata": {},
   "outputs": [
    {
     "name": "stdout",
     "output_type": "stream",
     "text": [
      "     Bedrooms  Bathrooms\n",
      "0           2          2\n",
      "1           4          2\n",
      "2           3          2\n",
      "3           3          2\n",
      "4           3          3\n",
      "..        ...        ...\n",
      "123         3          3\n",
      "124         4          3\n",
      "125         2          2\n",
      "126         3          3\n",
      "127         3          3\n",
      "\n",
      "[128 rows x 2 columns]\n"
     ]
    }
   ],
   "source": [
    "kolom3dan4 = data_felix.iloc[:, 2:4]\n",
    "\n",
    "print(kolom3dan4)"
   ]
  },
  {
   "cell_type": "code",
   "execution_count": 10,
   "id": "2cb34642",
   "metadata": {},
   "outputs": [
    {
     "name": "stdout",
     "output_type": "stream",
     "text": [
      "      Price  SqFt  Bedrooms  Bathrooms\n",
      "0    114300  1790         2          2\n",
      "1    114200  2030         4          2\n",
      "2    114800  1740         3          2\n",
      "3     94700  1980         3          2\n",
      "4    119800  2130         3          3\n",
      "..      ...   ...       ...        ...\n",
      "123  119700  1900         3          3\n",
      "124  147900  2160         4          3\n",
      "125  113500  2070         2          2\n",
      "126  149900  2020         3          3\n",
      "127  124600  2250         3          3\n",
      "\n",
      "[128 rows x 4 columns]\n"
     ]
    }
   ],
   "source": [
    "kolom1sd4 = pd.concat([kolom1dan2, kolom3dan4], axis=1)\n",
    "\n",
    "print(kolom1sd4)"
   ]
  },
  {
   "cell_type": "code",
   "execution_count": 11,
   "id": "f828f647",
   "metadata": {},
   "outputs": [
    {
     "name": "stdout",
     "output_type": "stream",
     "text": [
      "    Price  SqFt  Bedrooms  Bathrooms  Offers Brick Neighborhood\n",
      "0  114300  1790         2          2       2    No         East\n",
      "1  114200  2030         4          2       3    No         East\n",
      "2  114800  1740         3          2       1    No         East\n",
      "3   94700  1980         3          2       3    No         East\n",
      "4  119800  2130         3          3       3    No         East\n",
      "5  114600  1780         3          2       2    No        North\n"
     ]
    },
    {
     "name": "stderr",
     "output_type": "stream",
     "text": [
      "C:\\Users\\Felix\\AppData\\Local\\Temp\\ipykernel_10984\\4102121324.py:3: FutureWarning: The frame.append method is deprecated and will be removed from pandas in a future version. Use pandas.concat instead.\n",
      "  baris1sd6 = baris1sd3.append(baris4sd6)\n"
     ]
    }
   ],
   "source": [
    "baris1sd3 = data_felix.iloc[0:3, :]\n",
    "baris4sd6 = data_felix.iloc[3:6, :]\n",
    "baris1sd6 = baris1sd3.append(baris4sd6)\n",
    "\n",
    "print(baris1sd6)"
   ]
  },
  {
   "cell_type": "code",
   "execution_count": 12,
   "id": "9187a54d",
   "metadata": {},
   "outputs": [
    {
     "name": "stdout",
     "output_type": "stream",
     "text": [
      "      Price  SqFt  Bedrooms  Bathrooms  Offers Brick Neighborhood\n",
      "28    69100  1600         2          2       3    No        North\n",
      "54    81300  1650         3          2       3    No        North\n",
      "104   82300  1910         3          2       4    No         East\n",
      "17    83600  1990         3          3       4    No        North\n",
      "47    90300  2050         3          2       6    No        North\n",
      "..      ...   ...       ...        ...     ...   ...          ...\n",
      "81   184300  2140         4          3       2   Yes         West\n",
      "29   188000  2040         4          3       1   Yes         West\n",
      "85   188300  2250         4          3       2   Yes         West\n",
      "116  199500  2290         5          4       1   Yes         West\n",
      "103  211200  2440         4          3       3   Yes         West\n",
      "\n",
      "[128 rows x 7 columns]\n"
     ]
    }
   ],
   "source": [
    "data_felix_sort = data_felix.sort_values(by='Price')\n",
    "\n",
    "print(data_felix_sort)"
   ]
  },
  {
   "cell_type": "code",
   "execution_count": 14,
   "id": "fabf2f9a",
   "metadata": {},
   "outputs": [
    {
     "name": "stdout",
     "output_type": "stream",
     "text": [
      "       nama          nim       ttl  tinggi gender\n",
      "0     felix  65002300001  1/1/2005     171      p\n",
      "1   dewanto  65002300002  1/2/2005     165      p\n",
      "2   bambang  65002300003  1/3/2005     175      p\n",
      "3    rayyan  65002300004  1/4/2005     172      p\n",
      "4      bayu  65002300005  1/5/2005     130      p\n",
      "5      vira  65002300006  1/5/2005     175      p\n",
      "6      adit  65002300007  1/5/2005     163      p\n",
      "7    rayhan  65002300008  1/5/2005     180      p\n",
      "8      jett  65002300009  1/5/2005     158      p\n",
      "9      imam  65002300010  1/5/2005     170      p\n",
      "10     faiz  65002300011  1/5/2005     168      p\n",
      "11     dony  65002300012  1/5/2005     185      p\n",
      "12    monic  65002300013  1/5/2005     155      w\n",
      "13    syifa  65002300014  1/5/2005     169      w\n",
      "14   daniel  65002300015  1/5/2005     160      p\n",
      "15     naya  65002300016  1/3/2005     172      w\n",
      "16    putri  65002300017  1/3/2005     130      w\n",
      "17   ranggi  65002300018  1/3/2005     175      p\n",
      "18  nadhira  65002300019  1/3/2005     163      w\n",
      "19     dafa  65002300020  1/3/2005     180      p\n",
      "20    akbar  65002300021  1/2/2005     171      p\n",
      "21   arjuna  65002300022  1/3/2005     165      p\n",
      "22    iqbal  65002300023  1/4/2005     175      p\n",
      "23    bahru  65002300024  1/5/2005     172      p\n",
      "24     caca  65002300025  1/5/2005     130      w\n",
      "25   hafidz  65002300026  1/5/2005     175      p\n",
      "26    hakim  65002300027  1/5/2005     163      p\n",
      "27     ersa  65002300028  1/5/2005     180      p\n",
      "28  syahrul  65002300029  1/5/2005     158      p\n",
      "29   rombon  65002300030  1/5/2005     170      p\n"
     ]
    }
   ],
   "source": [
    "import pandas as pd\n",
    "\n",
    "data_felix = pd.read_clipboard()\n",
    "\n",
    "print(data_felix)"
   ]
  },
  {
   "cell_type": "code",
   "execution_count": 16,
   "id": "bcc8470e",
   "metadata": {},
   "outputs": [
    {
     "name": "stdout",
     "output_type": "stream",
     "text": [
      "       nama          nim       ttl  tinggi gender\n",
      "0     felix  65002300001  1/1/2005     171      p\n",
      "2   bambang  65002300003  1/3/2005     175      p\n",
      "3    rayyan  65002300004  1/4/2005     172      p\n",
      "5      vira  65002300006  1/5/2005     175      p\n",
      "7    rayhan  65002300008  1/5/2005     180      p\n",
      "11     dony  65002300012  1/5/2005     185      p\n",
      "15     naya  65002300016  1/3/2005     172      w\n",
      "17   ranggi  65002300018  1/3/2005     175      p\n",
      "19     dafa  65002300020  1/3/2005     180      p\n",
      "20    akbar  65002300021  1/2/2005     171      p\n",
      "22    iqbal  65002300023  1/4/2005     175      p\n",
      "23    bahru  65002300024  1/5/2005     172      p\n",
      "25   hafidz  65002300026  1/5/2005     175      p\n",
      "27     ersa  65002300028  1/5/2005     180      p\n"
     ]
    }
   ],
   "source": [
    "felix = data_felix[data_felix['tinggi'] > 170]\n",
    "\n",
    "print(felix)"
   ]
  },
  {
   "cell_type": "code",
   "execution_count": 17,
   "id": "c971da04",
   "metadata": {},
   "outputs": [
    {
     "name": "stdout",
     "output_type": "stream",
     "text": [
      "       nama          nim       ttl  tinggi gender\n",
      "0     felix  65002300001  1/1/2005  tinggi      p\n",
      "1   dewanto  65002300002  1/2/2005  tinggi      p\n",
      "2   bambang  65002300003  1/3/2005  tinggi      p\n",
      "3    rayyan  65002300004  1/4/2005  tinggi      p\n",
      "4      bayu  65002300005  1/5/2005  pendek      p\n",
      "5      vira  65002300006  1/5/2005  tinggi      p\n",
      "6      adit  65002300007  1/5/2005  tinggi      p\n",
      "7    rayhan  65002300008  1/5/2005  tinggi      p\n",
      "8      jett  65002300009  1/5/2005  pendek      p\n",
      "9      imam  65002300010  1/5/2005  tinggi      p\n",
      "10     faiz  65002300011  1/5/2005  tinggi      p\n",
      "11     dony  65002300012  1/5/2005  tinggi      p\n",
      "12    monic  65002300013  1/5/2005  pendek      w\n",
      "13    syifa  65002300014  1/5/2005  tinggi      w\n",
      "14   daniel  65002300015  1/5/2005  pendek      p\n",
      "15     naya  65002300016  1/3/2005  tinggi      w\n",
      "16    putri  65002300017  1/3/2005  pendek      w\n",
      "17   ranggi  65002300018  1/3/2005  tinggi      p\n",
      "18  nadhira  65002300019  1/3/2005  tinggi      w\n",
      "19     dafa  65002300020  1/3/2005  tinggi      p\n",
      "20    akbar  65002300021  1/2/2005  tinggi      p\n",
      "21   arjuna  65002300022  1/3/2005  tinggi      p\n",
      "22    iqbal  65002300023  1/4/2005  tinggi      p\n",
      "23    bahru  65002300024  1/5/2005  tinggi      p\n",
      "24     caca  65002300025  1/5/2005  pendek      w\n",
      "25   hafidz  65002300026  1/5/2005  tinggi      p\n",
      "26    hakim  65002300027  1/5/2005  tinggi      p\n",
      "27     ersa  65002300028  1/5/2005  tinggi      p\n",
      "28  syahrul  65002300029  1/5/2005  pendek      p\n",
      "29   rombon  65002300030  1/5/2005  tinggi      p\n"
     ]
    },
    {
     "name": "stderr",
     "output_type": "stream",
     "text": [
      "<>:5: SyntaxWarning: invalid decimal literal\n",
      "<>:5: SyntaxWarning: invalid decimal literal\n",
      "C:\\Users\\Felix\\AppData\\Local\\Temp\\ipykernel_8492\\2224157185.py:5: SyntaxWarning: invalid decimal literal\n",
      "  data_felix['tinggi'] = data_felix['tinggi'].apply(lambda x:'tinggi'if x>160else'pendek')\n"
     ]
    }
   ],
   "source": [
    "data_felix['tinggi'] = pd.to_numeric(data_felix['tinggi'])\n",
    "\n",
    "import numpy as np\n",
    "\n",
    "data_felix['tinggi'] = data_felix['tinggi'].apply(lambda x:'tinggi'if x>160else'pendek')\n",
    "                                              \n",
    "print(data_felix)"
   ]
  },
  {
   "cell_type": "code",
   "execution_count": 21,
   "id": "eed2f20a",
   "metadata": {},
   "outputs": [
    {
     "name": "stdout",
     "output_type": "stream",
     "text": [
      "       nama          nim       ttl  tinggi gender  jurusan fakultas\n",
      "0     felix  65002300001  1/1/2005  tinggi      p  infor20      FTI\n",
      "1   dewanto  65002300002  1/2/2005  tinggi      p  infor20      FTI\n",
      "2   bambang  65002300003  1/3/2005  tinggi      p  infor20      FTI\n",
      "3    rayyan  65002300004  1/4/2005  tinggi      p  infor20      FTI\n",
      "4      bayu  65002300005  1/5/2005  pendek      p  infor20      FTI\n",
      "5      vira  65002300006  1/5/2005  tinggi      p  infor20      FTI\n",
      "6      adit  65002300007  1/5/2005  tinggi      p  infor20      FTI\n",
      "7    rayhan  65002300008  1/5/2005  tinggi      p  infor20      FTI\n",
      "8      jett  65002300009  1/5/2005  pendek      p  infor20      FTI\n",
      "9      imam  65002300010  1/5/2005  tinggi      p  infor20      FTI\n",
      "10     faiz  65002300011  1/5/2005  tinggi      p  infor20      FTI\n",
      "11     dony  65002300012  1/5/2005  tinggi      p  infor20      FTI\n",
      "12    monic  65002300013  1/5/2005  pendek      w  infor20      FTI\n",
      "13    syifa  65002300014  1/5/2005  tinggi      w  infor20      FTI\n",
      "14   daniel  65002300015  1/5/2005  pendek      p  infor20      FTI\n",
      "15     naya  65002300016  1/3/2005  tinggi      w  infor20      FTI\n",
      "16    putri  65002300017  1/3/2005  pendek      w  infor20      FTI\n",
      "17   ranggi  65002300018  1/3/2005  tinggi      p  infor20      FTI\n",
      "18  nadhira  65002300019  1/3/2005  tinggi      w  infor20      FTI\n",
      "19     dafa  65002300020  1/3/2005  tinggi      p  infor20      FTI\n",
      "20    akbar  65002300021  1/2/2005  tinggi      p  infor20      FTI\n",
      "21   arjuna  65002300022  1/3/2005  tinggi      p  infor20      FTI\n",
      "22    iqbal  65002300023  1/4/2005  tinggi      p  infor20      FTI\n",
      "23    bahru  65002300024  1/5/2005  tinggi      p  infor20      FTI\n",
      "24     caca  65002300025  1/5/2005  pendek      w  infor20      FTI\n",
      "25   hafidz  65002300026  1/5/2005  tinggi      p  infor20      FTI\n",
      "26    hakim  65002300027  1/5/2005  tinggi      p  infor20      FTI\n",
      "27     ersa  65002300028  1/5/2005  tinggi      p  infor20      FTI\n",
      "28  syahrul  65002300029  1/5/2005  pendek      p  infor20      FTI\n",
      "29   rombon  65002300030  1/5/2005  tinggi      p  infor20      FTI\n"
     ]
    }
   ],
   "source": [
    "data_felix['jurusan'] = 'infor20'\n",
    "data_felix['fakultas'] = 'FTI'\n",
    "\n",
    "print(data_felix)"
   ]
  },
  {
   "cell_type": "code",
   "execution_count": 22,
   "id": "ec2787ec",
   "metadata": {},
   "outputs": [
    {
     "name": "stdout",
     "output_type": "stream",
     "text": [
      "       nama          nim       ttl  tinggi gender  jurusan\n",
      "0     felix  65002300001  1/1/2005  tinggi      p  infor20\n",
      "1   dewanto  65002300002  1/2/2005  tinggi      p  infor20\n",
      "2   bambang  65002300003  1/3/2005  tinggi      p  infor20\n",
      "3    rayyan  65002300004  1/4/2005  tinggi      p  infor20\n",
      "4      bayu  65002300005  1/5/2005  pendek      p  infor20\n",
      "5      vira  65002300006  1/5/2005  tinggi      p  infor20\n",
      "6      adit  65002300007  1/5/2005  tinggi      p  infor20\n",
      "7    rayhan  65002300008  1/5/2005  tinggi      p  infor20\n",
      "8      jett  65002300009  1/5/2005  pendek      p  infor20\n",
      "9      imam  65002300010  1/5/2005  tinggi      p  infor20\n",
      "10     faiz  65002300011  1/5/2005  tinggi      p  infor20\n",
      "11     dony  65002300012  1/5/2005  tinggi      p  infor20\n",
      "12    monic  65002300013  1/5/2005  pendek      w  infor20\n",
      "13    syifa  65002300014  1/5/2005  tinggi      w  infor20\n",
      "14   daniel  65002300015  1/5/2005  pendek      p  infor20\n",
      "15     naya  65002300016  1/3/2005  tinggi      w  infor20\n",
      "16    putri  65002300017  1/3/2005  pendek      w  infor20\n",
      "17   ranggi  65002300018  1/3/2005  tinggi      p  infor20\n",
      "18  nadhira  65002300019  1/3/2005  tinggi      w  infor20\n",
      "19     dafa  65002300020  1/3/2005  tinggi      p  infor20\n",
      "20    akbar  65002300021  1/2/2005  tinggi      p  infor20\n",
      "21   arjuna  65002300022  1/3/2005  tinggi      p  infor20\n",
      "22    iqbal  65002300023  1/4/2005  tinggi      p  infor20\n",
      "23    bahru  65002300024  1/5/2005  tinggi      p  infor20\n",
      "24     caca  65002300025  1/5/2005  pendek      w  infor20\n",
      "25   hafidz  65002300026  1/5/2005  tinggi      p  infor20\n",
      "26    hakim  65002300027  1/5/2005  tinggi      p  infor20\n",
      "27     ersa  65002300028  1/5/2005  tinggi      p  infor20\n",
      "28  syahrul  65002300029  1/5/2005  pendek      p  infor20\n",
      "29   rombon  65002300030  1/5/2005  tinggi      p  infor20\n"
     ]
    }
   ],
   "source": [
    "data_felix = data_felix.drop(columns=['fakultas'])\n",
    "\n",
    "print(data_felix)"
   ]
  },
  {
   "cell_type": "code",
   "execution_count": 33,
   "id": "84433936",
   "metadata": {},
   "outputs": [
    {
     "name": "stdout",
     "output_type": "stream",
     "text": [
      "       nama gender\n",
      "0     felix      p\n",
      "1   dewanto      p\n",
      "2   bambang      p\n",
      "3    rayyan      p\n",
      "4      bayu      p\n",
      "5      vira      p\n",
      "6      adit      p\n",
      "7    rayhan      p\n",
      "8      jett      p\n",
      "9      imam      p\n",
      "10     faiz      p\n",
      "11     dony      p\n",
      "12    monic      w\n",
      "13    syifa      w\n",
      "14   daniel      p\n",
      "15     naya      w\n",
      "16    putri      w\n",
      "17   ranggi      p\n",
      "18  nadhira      w\n",
      "19     dafa      p\n",
      "20    akbar      p\n",
      "21   arjuna      p\n",
      "22    iqbal      p\n",
      "23    bahru      p\n",
      "24     caca      w\n",
      "25   hafidz      p\n",
      "26    hakim      p\n",
      "27     ersa      p\n",
      "28  syahrul      p\n",
      "29   rombon      p\n"
     ]
    }
   ],
   "source": [
    "namagender = data_felix.iloc[:, [0,4]]\n",
    "\n",
    "print(namagender)"
   ]
  },
  {
   "cell_type": "code",
   "execution_count": 37,
   "id": "65a9af7b",
   "metadata": {},
   "outputs": [
    {
     "name": "stdout",
     "output_type": "stream",
     "text": [
      "    tinggi  jurusan\n",
      "0   tinggi  infor20\n",
      "1   tinggi  infor20\n",
      "2   tinggi  infor20\n",
      "3   tinggi  infor20\n",
      "4   pendek  infor20\n",
      "5   tinggi  infor20\n",
      "6   tinggi  infor20\n",
      "7   tinggi  infor20\n",
      "8   pendek  infor20\n",
      "9   tinggi  infor20\n",
      "10  tinggi  infor20\n",
      "11  tinggi  infor20\n",
      "12  pendek  infor20\n",
      "13  tinggi  infor20\n",
      "14  pendek  infor20\n",
      "15  tinggi  infor20\n",
      "16  pendek  infor20\n",
      "17  tinggi  infor20\n",
      "18  tinggi  infor20\n",
      "19  tinggi  infor20\n",
      "20  tinggi  infor20\n",
      "21  tinggi  infor20\n",
      "22  tinggi  infor20\n",
      "23  tinggi  infor20\n",
      "24  pendek  infor20\n",
      "25  tinggi  infor20\n",
      "26  tinggi  infor20\n",
      "27  tinggi  infor20\n",
      "28  pendek  infor20\n",
      "29  tinggi  infor20\n"
     ]
    }
   ],
   "source": [
    "angkatantinggi = data_felix.iloc[:, [3,5]]\n",
    "\n",
    "print(angkatantinggi)"
   ]
  },
  {
   "cell_type": "code",
   "execution_count": 39,
   "id": "4b8af4fe",
   "metadata": {},
   "outputs": [
    {
     "name": "stdout",
     "output_type": "stream",
     "text": [
      "       nama gender  tinggi  jurusan\n",
      "0     felix      p  tinggi  infor20\n",
      "1   dewanto      p  tinggi  infor20\n",
      "2   bambang      p  tinggi  infor20\n",
      "3    rayyan      p  tinggi  infor20\n",
      "4      bayu      p  pendek  infor20\n",
      "5      vira      p  tinggi  infor20\n",
      "6      adit      p  tinggi  infor20\n",
      "7    rayhan      p  tinggi  infor20\n",
      "8      jett      p  pendek  infor20\n",
      "9      imam      p  tinggi  infor20\n",
      "10     faiz      p  tinggi  infor20\n",
      "11     dony      p  tinggi  infor20\n",
      "12    monic      w  pendek  infor20\n",
      "13    syifa      w  tinggi  infor20\n",
      "14   daniel      p  pendek  infor20\n",
      "15     naya      w  tinggi  infor20\n",
      "16    putri      w  pendek  infor20\n",
      "17   ranggi      p  tinggi  infor20\n",
      "18  nadhira      w  tinggi  infor20\n",
      "19     dafa      p  tinggi  infor20\n",
      "20    akbar      p  tinggi  infor20\n",
      "21   arjuna      p  tinggi  infor20\n",
      "22    iqbal      p  tinggi  infor20\n",
      "23    bahru      p  tinggi  infor20\n",
      "24     caca      w  pendek  infor20\n",
      "25   hafidz      p  tinggi  infor20\n",
      "26    hakim      p  tinggi  infor20\n",
      "27     ersa      p  tinggi  infor20\n",
      "28  syahrul      p  pendek  infor20\n",
      "29   rombon      p  tinggi  infor20\n"
     ]
    }
   ],
   "source": [
    "gabung = pd.concat([namagender, angkatantinggi], axis=1)\n",
    "\n",
    "print(gabung)"
   ]
  },
  {
   "cell_type": "code",
   "execution_count": 40,
   "id": "aa5dda3d",
   "metadata": {},
   "outputs": [
    {
     "name": "stdout",
     "output_type": "stream",
     "text": [
      "       nama          nim       ttl  tinggi gender  jurusan\n",
      "0     felix  65002300001  1/1/2005  tinggi      p  infor20\n",
      "1   dewanto  65002300002  1/2/2005  tinggi      p  infor20\n",
      "2   bambang  65002300003  1/3/2005  tinggi      p  infor20\n",
      "3    rayyan  65002300004  1/4/2005  tinggi      p  infor20\n",
      "4      bayu  65002300005  1/5/2005  pendek      p  infor20\n",
      "5      vira  65002300006  1/5/2005  tinggi      p  infor20\n",
      "6      adit  65002300007  1/5/2005  tinggi      p  infor20\n",
      "7    rayhan  65002300008  1/5/2005  tinggi      p  infor20\n",
      "8      jett  65002300009  1/5/2005  pendek      p  infor20\n",
      "9      imam  65002300010  1/5/2005  tinggi      p  infor20\n",
      "10     faiz  65002300011  1/5/2005  tinggi      p  infor20\n",
      "11     dony  65002300012  1/5/2005  tinggi      p  infor20\n",
      "12    monic  65002300013  1/5/2005  pendek      w  infor20\n",
      "13    syifa  65002300014  1/5/2005  tinggi      w  infor20\n",
      "14   daniel  65002300015  1/5/2005  pendek      p  infor20\n",
      "15     naya  65002300016  1/3/2005  tinggi      w  infor20\n",
      "16    putri  65002300017  1/3/2005  pendek      w  infor20\n",
      "17   ranggi  65002300018  1/3/2005  tinggi      p  infor20\n",
      "18  nadhira  65002300019  1/3/2005  tinggi      w  infor20\n",
      "19     dafa  65002300020  1/3/2005  tinggi      p  infor20\n",
      "20    akbar  65002300021  1/2/2005  tinggi      p  infor20\n",
      "21   arjuna  65002300022  1/3/2005  tinggi      p  infor20\n",
      "22    iqbal  65002300023  1/4/2005  tinggi      p  infor20\n",
      "23    bahru  65002300024  1/5/2005  tinggi      p  infor20\n",
      "24     caca  65002300025  1/5/2005  pendek      w  infor20\n",
      "25   hafidz  65002300026  1/5/2005  tinggi      p  infor20\n",
      "26    hakim  65002300027  1/5/2005  tinggi      p  infor20\n",
      "27     ersa  65002300028  1/5/2005  tinggi      p  infor20\n",
      "28  syahrul  65002300029  1/5/2005  pendek      p  infor20\n",
      "29   rombon  65002300030  1/5/2005  tinggi      p  infor20\n"
     ]
    },
    {
     "name": "stderr",
     "output_type": "stream",
     "text": [
      "C:\\Users\\Felix\\AppData\\Local\\Temp\\ipykernel_8492\\1260410134.py:3: FutureWarning: The frame.append method is deprecated and will be removed from pandas in a future version. Use pandas.concat instead.\n",
      "  baris = bar15.append(bar2530)\n"
     ]
    }
   ],
   "source": [
    "bar15 = data_felix.iloc[0:5, :]\n",
    "bar2530 = data_felix.iloc[5:30, :]\n",
    "baris = bar15.append(bar2530)\n",
    "\n",
    "print(baris)"
   ]
  },
  {
   "cell_type": "code",
   "execution_count": 41,
   "id": "c19f70ea",
   "metadata": {},
   "outputs": [
    {
     "name": "stdout",
     "output_type": "stream",
     "text": [
      "       nama          nim       ttl  tinggi gender  jurusan\n",
      "14   daniel  65002300015  1/5/2005  pendek      p  infor20\n",
      "28  syahrul  65002300029  1/5/2005  pendek      p  infor20\n",
      "12    monic  65002300013  1/5/2005  pendek      w  infor20\n",
      "24     caca  65002300025  1/5/2005  pendek      w  infor20\n",
      "8      jett  65002300009  1/5/2005  pendek      p  infor20\n",
      "4      bayu  65002300005  1/5/2005  pendek      p  infor20\n",
      "16    putri  65002300017  1/3/2005  pendek      w  infor20\n",
      "25   hafidz  65002300026  1/5/2005  tinggi      p  infor20\n",
      "23    bahru  65002300024  1/5/2005  tinggi      p  infor20\n",
      "22    iqbal  65002300023  1/4/2005  tinggi      p  infor20\n",
      "17   ranggi  65002300018  1/3/2005  tinggi      p  infor20\n",
      "21   arjuna  65002300022  1/3/2005  tinggi      p  infor20\n",
      "20    akbar  65002300021  1/2/2005  tinggi      p  infor20\n",
      "19     dafa  65002300020  1/3/2005  tinggi      p  infor20\n",
      "26    hakim  65002300027  1/5/2005  tinggi      p  infor20\n",
      "18  nadhira  65002300019  1/3/2005  tinggi      w  infor20\n",
      "27     ersa  65002300028  1/5/2005  tinggi      p  infor20\n",
      "0     felix  65002300001  1/1/2005  tinggi      p  infor20\n",
      "13    syifa  65002300014  1/5/2005  tinggi      w  infor20\n",
      "11     dony  65002300012  1/5/2005  tinggi      p  infor20\n",
      "10     faiz  65002300011  1/5/2005  tinggi      p  infor20\n",
      "9      imam  65002300010  1/5/2005  tinggi      p  infor20\n",
      "7    rayhan  65002300008  1/5/2005  tinggi      p  infor20\n",
      "6      adit  65002300007  1/5/2005  tinggi      p  infor20\n",
      "5      vira  65002300006  1/5/2005  tinggi      p  infor20\n",
      "3    rayyan  65002300004  1/4/2005  tinggi      p  infor20\n",
      "2   bambang  65002300003  1/3/2005  tinggi      p  infor20\n",
      "1   dewanto  65002300002  1/2/2005  tinggi      p  infor20\n",
      "15     naya  65002300016  1/3/2005  tinggi      w  infor20\n",
      "29   rombon  65002300030  1/5/2005  tinggi      p  infor20\n"
     ]
    }
   ],
   "source": [
    "data_felix_sort = data_felix.sort_values(by='tinggi')\n",
    "\n",
    "print(data_felix_sort)"
   ]
  },
  {
   "cell_type": "code",
   "execution_count": null,
   "id": "801b2d4a",
   "metadata": {},
   "outputs": [],
   "source": []
  }
 ],
 "metadata": {
  "kernelspec": {
   "display_name": "Python 3 (ipykernel)",
   "language": "python",
   "name": "python3"
  },
  "language_info": {
   "codemirror_mode": {
    "name": "ipython",
    "version": 3
   },
   "file_extension": ".py",
   "mimetype": "text/x-python",
   "name": "python",
   "nbconvert_exporter": "python",
   "pygments_lexer": "ipython3",
   "version": "3.11.4"
  }
 },
 "nbformat": 4,
 "nbformat_minor": 5
}
